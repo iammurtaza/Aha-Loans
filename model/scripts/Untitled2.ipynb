{
 "cells": [
  {
   "cell_type": "code",
   "execution_count": 1,
   "metadata": {},
   "outputs": [],
   "source": [
    "import re,json"
   ]
  },
  {
   "cell_type": "code",
   "execution_count": 35,
   "metadata": {},
   "outputs": [],
   "source": [
    "val='{\"token\":\"ya29.Gl3hBbA3WDTjQrj4AxFm3UHqYMfF2mgpRHJ5oh7myM1lYiRyhym5dvJwxL1T6sfNjcGDeELJ1OyEyt0M-9TQgki9dN73eSAEwnZJ2HFAd86AsE6OhaDH9oHeJTTAu_Q\",\"refreshToken\":null,\"expiresIn\":3599,\"id\":\"117137725249225792257\",\"nickname\":null,\"name\":\"Akbar Ali\",\"email\":\"akbarali0702@gmail.com\",\"avatar\":\"https:\\/\\/lh6.googleusercontent.com\\/-7qHRJbecjtk\\/AAAAAAAAAAI\\/AAAAAAAAAEc\\/ywaoD1Y_Lus\\/photo.jpg?sz=50\",\"user\":{\"kind\":\"plus#person\",\"etag\":\"\\\"RKS4-q7QGL10FxltAebpjqjKQR0\\/0XNvPDppxL7u4w-RzRYioOpuLkY\\\"\",\"gender\":\"male\",\"emails\":[{\"value\":\"akbarali0702@gmail.com\",\"type\":\"account\"}],\"objectType\":\"person\",\"id\":\"117137725249225792257\",\"displayName\":\"Akbar Ali\",\"name\":{\"familyName\":\"Ali\",\"givenName\":\"Akbar\"},\"url\":\"https:\\/\\/plus.google.com\\/117137725249225792257\",\"image\":{\"url\":\"https:\\/\\/lh6.googleusercontent.com\\/-7qHRJbecjtk\\/AAAAAAAAAAI\\/AAAAAAAAAEc\\/ywaoD1Y_Lus\\/photo.jpg?sz=50\",\"isDefault\":false},\"isPlusUser\":true,\"language\":\"en_GB\",\"circledByCount\":13,\"verified\":false},\"avatar_original\":\"https:\\/\\/lh6.googleusercontent.com\\/-7qHRJbecjtk\\/AAAAAAAAAAI\\/AAAAAAAAAEc\\/ywaoD1Y_Lus\\/photo.jpg\"}'"
   ]
  },
  {
   "cell_type": "code",
   "execution_count": 40,
   "metadata": {},
   "outputs": [],
   "source": [
    "value=val.replace('\\\\\"','').replace('\"\"','\"')"
   ]
  },
  {
   "cell_type": "code",
   "execution_count": 41,
   "metadata": {},
   "outputs": [
    {
     "data": {
      "text/plain": [
       "{'avatar': 'https://lh6.googleusercontent.com/-7qHRJbecjtk/AAAAAAAAAAI/AAAAAAAAAEc/ywaoD1Y_Lus/photo.jpg?sz=50',\n",
       " 'avatar_original': 'https://lh6.googleusercontent.com/-7qHRJbecjtk/AAAAAAAAAAI/AAAAAAAAAEc/ywaoD1Y_Lus/photo.jpg',\n",
       " 'email': 'akbarali0702@gmail.com',\n",
       " 'expiresIn': 3599,\n",
       " 'id': '117137725249225792257',\n",
       " 'name': 'Akbar Ali',\n",
       " 'nickname': None,\n",
       " 'refreshToken': None,\n",
       " 'token': 'ya29.Gl3hBbA3WDTjQrj4AxFm3UHqYMfF2mgpRHJ5oh7myM1lYiRyhym5dvJwxL1T6sfNjcGDeELJ1OyEyt0M-9TQgki9dN73eSAEwnZJ2HFAd86AsE6OhaDH9oHeJTTAu_Q',\n",
       " 'user': {'circledByCount': 13,\n",
       "  'displayName': 'Akbar Ali',\n",
       "  'emails': [{'type': 'account', 'value': 'akbarali0702@gmail.com'}],\n",
       "  'etag': 'RKS4-q7QGL10FxltAebpjqjKQR0/0XNvPDppxL7u4w-RzRYioOpuLkY',\n",
       "  'gender': 'male',\n",
       "  'id': '117137725249225792257',\n",
       "  'image': {'isDefault': False,\n",
       "   'url': 'https://lh6.googleusercontent.com/-7qHRJbecjtk/AAAAAAAAAAI/AAAAAAAAAEc/ywaoD1Y_Lus/photo.jpg?sz=50'},\n",
       "  'isPlusUser': True,\n",
       "  'kind': 'plus#person',\n",
       "  'language': 'en_GB',\n",
       "  'name': {'familyName': 'Ali', 'givenName': 'Akbar'},\n",
       "  'objectType': 'person',\n",
       "  'url': 'https://plus.google.com/117137725249225792257',\n",
       "  'verified': False}}"
      ]
     },
     "execution_count": 41,
     "metadata": {},
     "output_type": "execute_result"
    }
   ],
   "source": [
    "json.loads(value,strict=False)"
   ]
  },
  {
   "cell_type": "code",
   "execution_count": null,
   "metadata": {},
   "outputs": [],
   "source": []
  },
  {
   "cell_type": "code",
   "execution_count": null,
   "metadata": {},
   "outputs": [],
   "source": []
  },
  {
   "cell_type": "code",
   "execution_count": null,
   "metadata": {},
   "outputs": [],
   "source": []
  }
 ],
 "metadata": {
  "kernelspec": {
   "display_name": "Python 3",
   "language": "python",
   "name": "python3"
  },
  "language_info": {
   "codemirror_mode": {
    "name": "ipython",
    "version": 3
   },
   "file_extension": ".py",
   "mimetype": "text/x-python",
   "name": "python",
   "nbconvert_exporter": "python",
   "pygments_lexer": "ipython3",
   "version": "3.5.2"
  }
 },
 "nbformat": 4,
 "nbformat_minor": 2
}
