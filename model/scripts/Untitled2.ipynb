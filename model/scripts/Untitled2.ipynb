{
 "cells": [
  {
   "cell_type": "code",
   "execution_count": 1,
   "metadata": {},
   "outputs": [],
   "source": [
    "import re,json,sys"
   ]
  },
  {
   "cell_type": "code",
   "execution_count": 2,
   "metadata": {},
   "outputs": [],
   "source": [
    "val='{\"token\":\"ya29.GlvhBe0WPTWwBqG9t3SjuBXn6Z0Z0tBPqmnujA9MNa30RuoDKWUTDHF5mYNgga9V9Fuz3XRNSXGOHc806oQXBtFrCwxPrxo1F1Wy6guGanyxHMk-x8xLov7Tbf3_\",\"refreshToken\":null,\"expiresIn\":3600,\"id\":\"112338217579525064145\",\"nickname\":null,\"name\":\"Suneel Kumar\",\"email\":\"suneel@ahaloans.com\",\"avatar\":\"https:\\/\\/lh4.googleusercontent.com\\/-BdxeRSG9gw0\\/AAAAAAAAAAI\\/AAAAAAAAAAA\\/AB6qoq2ErBdZujv3moct09in7N7Q-F7-ow\\/mo\\/photo.jpg?sz=50\",\"user\":{\"kind\":\"plus#person\",\"etag\":\"\\\"RKS4-q7QGL10FxltAebpjqjKQR0\\/KScNOyALFa_8fzjv8HI2ALe_5ag\\\"\",\"emails\":[{\"value\":\"suneel@ahaloans.com\",\"type\":\"account\"}],\"objectType\":\"person\",\"id\":\"112338217579525064145\",\"displayName\":\"Suneel Kumar\",\"name\":{\"familyName\":\"Kumar\",\"givenName\":\"Suneel\"},\"image\":{\"url\":\"https:\\/\\/lh4.googleusercontent.com\\/-BdxeRSG9gw0\\/AAAAAAAAAAI\\/AAAAAAAAAAA\\/AB6qoq2ErBdZujv3moct09in7N7Q-F7-ow\\/mo\\/photo.jpg?sz=50\",\"isDefault\":true},\"isPlusUser\":false,\"language\":\"en\",\"verified\":false,\"domain\":\"ahaloans.com\"},\"avatar_original\":\"https:\\/\\/lh4.googleusercontent.com\\/-BdxeRSG9gw0\\/AAAAAAAAAAI\\/AAAAAAAAAAA\\/AB6qoq2ErBdZujv3moct09in7N7Q-F7-ow\\/mo\\/photo.jpg\"}'"
   ]
  },
  {
   "cell_type": "code",
   "execution_count": 3,
   "metadata": {},
   "outputs": [],
   "source": [
    "value=val.replace('\\\\\"','').replace('\"\"','\"').replace(\"\\'\",\"\")"
   ]
  },
  {
   "cell_type": "code",
   "execution_count": 4,
   "metadata": {},
   "outputs": [
    {
     "data": {
      "text/plain": [
       "{'avatar': 'https://lh4.googleusercontent.com/-BdxeRSG9gw0/AAAAAAAAAAI/AAAAAAAAAAA/AB6qoq2ErBdZujv3moct09in7N7Q-F7-ow/mo/photo.jpg?sz=50',\n",
       " 'avatar_original': 'https://lh4.googleusercontent.com/-BdxeRSG9gw0/AAAAAAAAAAI/AAAAAAAAAAA/AB6qoq2ErBdZujv3moct09in7N7Q-F7-ow/mo/photo.jpg',\n",
       " 'email': 'suneel@ahaloans.com',\n",
       " 'expiresIn': 3600,\n",
       " 'id': '112338217579525064145',\n",
       " 'name': 'Suneel Kumar',\n",
       " 'nickname': None,\n",
       " 'refreshToken': None,\n",
       " 'token': 'ya29.GlvhBe0WPTWwBqG9t3SjuBXn6Z0Z0tBPqmnujA9MNa30RuoDKWUTDHF5mYNgga9V9Fuz3XRNSXGOHc806oQXBtFrCwxPrxo1F1Wy6guGanyxHMk-x8xLov7Tbf3_',\n",
       " 'user': {'displayName': 'Suneel Kumar',\n",
       "  'domain': 'ahaloans.com',\n",
       "  'emails': [{'type': 'account', 'value': 'suneel@ahaloans.com'}],\n",
       "  'etag': 'RKS4-q7QGL10FxltAebpjqjKQR0/KScNOyALFa_8fzjv8HI2ALe_5ag',\n",
       "  'id': '112338217579525064145',\n",
       "  'image': {'isDefault': True,\n",
       "   'url': 'https://lh4.googleusercontent.com/-BdxeRSG9gw0/AAAAAAAAAAI/AAAAAAAAAAA/AB6qoq2ErBdZujv3moct09in7N7Q-F7-ow/mo/photo.jpg?sz=50'},\n",
       "  'isPlusUser': False,\n",
       "  'kind': 'plus#person',\n",
       "  'language': 'en',\n",
       "  'name': {'familyName': 'Kumar', 'givenName': 'Suneel'},\n",
       "  'objectType': 'person',\n",
       "  'verified': False}}"
      ]
     },
     "execution_count": 4,
     "metadata": {},
     "output_type": "execute_result"
    }
   ],
   "source": [
    "json.loads(value,strict=False)"
   ]
  },
  {
   "cell_type": "code",
   "execution_count": 5,
   "metadata": {},
   "outputs": [],
   "source": [
    "def main():\n",
    "    try:\n",
    "        \n",
    "        val='{\"token\":\"ya29.Gl3hBbA3WDTjQrj4AxFm3UHqYMfF2mgpRHJ5oh7myM1lYiRyhym5dvJwxL1T6sfNjcGDeELJ1OyEyt0M-9TQgki9dN73eSAEwnZJ2HFAd86AsE6OhaDH9oHeJTTAu_Q\",\"refreshToken\":null,\"expiresIn\":3599,\"id\":\"117137725249225792257\",\"nickname\":null,\"name\":\"Akbar Ali\",\"email\":\"akbarali0702@gmail.com\",\"avatar\":\"https:\\/\\/lh6.googleusercontent.com\\/-7qHRJbecjtk\\/AAAAAAAAAAI\\/AAAAAAAAAEc\\/ywaoD1Y_Lus\\/photo.jpg?sz=50\",\"user\":{\"kind\":\"plus#person\",\"etag\":\"\\\"RKS4-q7QGL10FxltAebpjqjKQR0\\/0XNvPDppxL7u4w-RzRYioOpuLkY\\\"\",\"gender\":\"male\",\"emails\":[{\"value\":\"akbarali0702@gmail.com\",\"type\":\"account\"}],\"objectType\":\"person\",\"id\":\"117137725249225792257\",\"displayName\":\"Akbar Ali\",\"name\":{\"familyName\":\"Ali\",\"givenName\":\"Akbar\"},\"url\":\"https:\\/\\/plus.google.com\\/117137725249225792257\",\"image\":{\"url\":\"https:\\/\\/lh6.googleusercontent.com\\/-7qHRJbecjtk\\/AAAAAAAAAAI\\/AAAAAAAAAEc\\/ywaoD1Y_Lus\\/photo.jpg?sz=50\",\"isDefault\":false},\"isPlusUser\":true,\"language\":\"en_GB\",\"circledByCount\":13,\"verified\":false},\"avatar_original\":\"https:\\/\\/lh6.googleusercontent.com\\/-7qHRJbecjtk\\/AAAAAAAAAAI\\/AAAAAAAAAEc\\/ywaoD1Y_Lus\\/photo.jpg\"}'    \n",
    "        val=val.replace('\\\\\"','').replace('\"\"','\"')\n",
    "        value=json.loads(val,strict=False)\n",
    "        print(calcScore(value))\n",
    "    except:\n",
    "        pass"
   ]
  },
  {
   "cell_type": "code",
   "execution_count": 6,
   "metadata": {},
   "outputs": [],
   "source": [
    "def calcScore(value):\n",
    "    total_score=0\n",
    "    try:\n",
    "        firstName=value['name'].split()[0]\n",
    "        lastname=value['name'].split()[-1]\n",
    "        email=value['email']\n",
    "        contains_first_name=re.compile(firstName.lower())\n",
    "        contains_last_name=re.compile(lastName.lower())\n",
    "        if(contains_first_name.search(email)):total_score+=2.5\n",
    "        if(contains_last_name.search(email)):total_score+=2.5\n",
    "    except:\n",
    "        pass\n",
    "    \n",
    "    \n",
    "    try:\n",
    "        if(value['user']['verified']):total_score+=40\n",
    "        else:pass\n",
    "    except:\n",
    "        pass\n",
    "    \n",
    "    \n",
    "    try:\n",
    "        if(value['user']['isPlusUser']):total_score+=15\n",
    "        else:pass\n",
    "      \n",
    "    except:\n",
    "        pass\n",
    "    \n",
    "    \n",
    "    try:\n",
    "        num_o_conn=value['user']['circledByCount']\n",
    "        total_score+=int(num_o_conn)*1.5\n",
    "        \n",
    "        \n",
    "    except:\n",
    "        pass\n",
    "    \n",
    "    \n",
    "    return(total_score)"
   ]
  },
  {
   "cell_type": "code",
   "execution_count": 7,
   "metadata": {},
   "outputs": [
    {
     "name": "stdout",
     "output_type": "stream",
     "text": [
      "34.5\n"
     ]
    }
   ],
   "source": [
    "if __name__=='__main__':\n",
    "    main()\n"
   ]
  },
  {
   "cell_type": "code",
   "execution_count": 11,
   "metadata": {},
   "outputs": [],
   "source": [
    "import numpy as np\n",
    "val='{\"token\":\"ya29.Gl3hBbA3WDTjQrj4AxFm3UHqYMfF2mgpRHJ5oh7myM1lYiRyhym5dvJwxL1T6sfNjcGDeELJ1OyEyt0M-9TQgki9dN73eSAEwnZJ2HFAd86AsE6OhaDH9oHeJTTAu_Q\",\"refreshToken\":null,\"expiresIn\":3599,\"id\":\"117137725249225792257\",\"nickname\":null,\"name\":\"Akbar Ali\",\"email\":\"akbarali0702@gmail.com\",\"avatar\":\"https:\\/\\/lh6.googleusercontent.com\\/-7qHRJbecjtk\\/AAAAAAAAAAI\\/AAAAAAAAAEc\\/ywaoD1Y_Lus\\/photo.jpg?sz=50\",\"user\":{\"kind\":\"plus#person\",\"etag\":\"\\\"RKS4-q7QGL10FxltAebpjqjKQR0\\/0XNvPDppxL7u4w-RzRYioOpuLkY\\\"\",\"gender\":\"male\",\"emails\":[{\"value\":\"akbarali0702@gmail.com\",\"type\":\"account\"}],\"objectType\":\"person\",\"id\":\"117137725249225792257\",\"displayName\":\"Akbar Ali\",\"name\":{\"familyName\":\"Ali\",\"givenName\":\"Akbar\"},\"url\":\"https:\\/\\/plus.google.com\\/117137725249225792257\",\"image\":{\"url\":\"https:\\/\\/lh6.googleusercontent.com\\/-7qHRJbecjtk\\/AAAAAAAAAAI\\/AAAAAAAAAEc\\/ywaoD1Y_Lus\\/photo.jpg?sz=50\",\"isDefault\":false},\"isPlusUser\":true,\"language\":\"en_GB\",\"circledByCount\":13,\"verified\":false},\"avatar_original\":\"https:\\/\\/lh6.googleusercontent.com\\/-7qHRJbecjtk\\/AAAAAAAAAAI\\/AAAAAAAAAEc\\/ywaoD1Y_Lus\\/photo.jpg\"}'    \n",
    "val=val.replace('\\\\\"','').replace('\"\"','\"')\n",
    "value=json.loads(val,strict=False)\n",
    "teVal=value['user']['verified']"
   ]
  },
  {
   "cell_type": "code",
   "execution_count": null,
   "metadata": {},
   "outputs": [],
   "source": []
  },
  {
   "cell_type": "code",
   "execution_count": null,
   "metadata": {},
   "outputs": [],
   "source": []
  }
 ],
 "metadata": {
  "kernelspec": {
   "display_name": "Python 3",
   "language": "python",
   "name": "python3"
  },
  "language_info": {
   "codemirror_mode": {
    "name": "ipython",
    "version": 3
   },
   "file_extension": ".py",
   "mimetype": "text/x-python",
   "name": "python",
   "nbconvert_exporter": "python",
   "pygments_lexer": "ipython3",
   "version": "3.5.2"
  }
 },
 "nbformat": 4,
 "nbformat_minor": 2
}
