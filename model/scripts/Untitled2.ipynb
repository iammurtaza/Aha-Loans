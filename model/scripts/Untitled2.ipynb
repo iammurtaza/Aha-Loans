{
 "cells": [
  {
   "cell_type": "code",
   "execution_count": 92,
   "metadata": {},
   "outputs": [],
   "source": [
    "import re,json,sys,fuckit"
   ]
  },
  {
   "cell_type": "code",
   "execution_count": 73,
   "metadata": {},
   "outputs": [],
   "source": [
    "val='{\"token\":\"ya29.Gl3hBbA3WDTjQrj4AxFm3UHqYMfF2mgpRHJ5oh7myM1lYiRyhym5dvJwxL1T6sfNjcGDeELJ1OyEyt0M-9TQgki9dN73eSAEwnZJ2HFAd86AsE6OhaDH9oHeJTTAu_Q\",\"refreshToken\":null,\"expiresIn\":3599,\"id\":\"117137725249225792257\",\"nickname\":null,\"name\":\"Akbar Ali\",\"email\":\"akbarali0702@gmail.com\",\"avatar\":\"https:\\/\\/lh6.googleusercontent.com\\/-7qHRJbecjtk\\/AAAAAAAAAAI\\/AAAAAAAAAEc\\/ywaoD1Y_Lus\\/photo.jpg?sz=50\",\"user\":{\"kind\":\"plus#person\",\"etag\":\"\\\"RKS4-q7QGL10FxltAebpjqjKQR0\\/0XNvPDppxL7u4w-RzRYioOpuLkY\\\"\",\"gender\":\"male\",\"emails\":[{\"value\":\"akbarali0702@gmail.com\",\"type\":\"account\"}],\"objectType\":\"person\",\"id\":\"117137725249225792257\",\"displayName\":\"Akbar Ali\",\"name\":{\"familyName\":\"Ali\",\"givenName\":\"Akbar\"},\"url\":\"https:\\/\\/plus.google.com\\/117137725249225792257\",\"image\":{\"url\":\"https:\\/\\/lh6.googleusercontent.com\\/-7qHRJbecjtk\\/AAAAAAAAAAI\\/AAAAAAAAAEc\\/ywaoD1Y_Lus\\/photo.jpg?sz=50\",\"isDefault\":false},\"isPlusUser\":true,\"language\":\"en_GB\",\"circledByCount\":13,\"verified\":false},\"avatar_original\":\"https:\\/\\/lh6.googleusercontent.com\\/-7qHRJbecjtk\\/AAAAAAAAAAI\\/AAAAAAAAAEc\\/ywaoD1Y_Lus\\/photo.jpg\"}'"
   ]
  },
  {
   "cell_type": "code",
   "execution_count": 74,
   "metadata": {},
   "outputs": [],
   "source": [
    "value=val.replace('\\\\\"','').replace('\"\"','\"')"
   ]
  },
  {
   "cell_type": "code",
   "execution_count": 75,
   "metadata": {},
   "outputs": [
    {
     "data": {
      "text/plain": [
       "{'avatar': 'https://lh6.googleusercontent.com/-7qHRJbecjtk/AAAAAAAAAAI/AAAAAAAAAEc/ywaoD1Y_Lus/photo.jpg?sz=50',\n",
       " 'avatar_original': 'https://lh6.googleusercontent.com/-7qHRJbecjtk/AAAAAAAAAAI/AAAAAAAAAEc/ywaoD1Y_Lus/photo.jpg',\n",
       " 'email': 'akbarali0702@gmail.com',\n",
       " 'expiresIn': 3599,\n",
       " 'id': '117137725249225792257',\n",
       " 'name': 'Akbar Ali',\n",
       " 'nickname': None,\n",
       " 'refreshToken': None,\n",
       " 'token': 'ya29.Gl3hBbA3WDTjQrj4AxFm3UHqYMfF2mgpRHJ5oh7myM1lYiRyhym5dvJwxL1T6sfNjcGDeELJ1OyEyt0M-9TQgki9dN73eSAEwnZJ2HFAd86AsE6OhaDH9oHeJTTAu_Q',\n",
       " 'user': {'circledByCount': 13,\n",
       "  'displayName': 'Akbar Ali',\n",
       "  'emails': [{'type': 'account', 'value': 'akbarali0702@gmail.com'}],\n",
       "  'etag': 'RKS4-q7QGL10FxltAebpjqjKQR0/0XNvPDppxL7u4w-RzRYioOpuLkY',\n",
       "  'gender': 'male',\n",
       "  'id': '117137725249225792257',\n",
       "  'image': {'isDefault': False,\n",
       "   'url': 'https://lh6.googleusercontent.com/-7qHRJbecjtk/AAAAAAAAAAI/AAAAAAAAAEc/ywaoD1Y_Lus/photo.jpg?sz=50'},\n",
       "  'isPlusUser': True,\n",
       "  'kind': 'plus#person',\n",
       "  'language': 'en_GB',\n",
       "  'name': {'familyName': 'Ali', 'givenName': 'Akbar'},\n",
       "  'objectType': 'person',\n",
       "  'url': 'https://plus.google.com/117137725249225792257',\n",
       "  'verified': False}}"
      ]
     },
     "execution_count": 75,
     "metadata": {},
     "output_type": "execute_result"
    }
   ],
   "source": [
    "json.loads(value,strict=False)"
   ]
  },
  {
   "cell_type": "code",
   "execution_count": 89,
   "metadata": {},
   "outputs": [],
   "source": [
    "def main():\n",
    "    total_score=0\n",
    "    try:\n",
    "        val='{\"token\":\"ya29.Gl3hBbA3WDTjQrj4AxFm3UHqYMfF2mgpRHJ5oh7myM1lYiRyhym5dvJwxL1T6sfNjcGDeELJ1OyEyt0M-9TQgki9dN73eSAEwnZJ2HFAd86AsE6OhaDH9oHeJTTAu_Q\",\"refreshToken\":null,\"expiresIn\":3599,\"id\":\"117137725249225792257\",\"nickname\":null,\"name\":\"Akbar Ali\",\"email\":\"akbarali0702@gmail.com\",\"avatar\":\"https:\\/\\/lh6.googleusercontent.com\\/-7qHRJbecjtk\\/AAAAAAAAAAI\\/AAAAAAAAAEc\\/ywaoD1Y_Lus\\/photo.jpg?sz=50\",\"user\":{\"kind\":\"plus#person\",\"etag\":\"\\\"RKS4-q7QGL10FxltAebpjqjKQR0\\/0XNvPDppxL7u4w-RzRYioOpuLkY\\\"\",\"gender\":\"male\",\"emails\":[{\"value\":\"akbarali0702@gmail.com\",\"type\":\"account\"}],\"objectType\":\"person\",\"id\":\"117137725249225792257\",\"displayName\":\"Akbar Ali\",\"name\":{\"familyName\":\"Ali\",\"givenName\":\"Akbar\"},\"url\":\"https:\\/\\/plus.google.com\\/117137725249225792257\",\"image\":{\"url\":\"https:\\/\\/lh6.googleusercontent.com\\/-7qHRJbecjtk\\/AAAAAAAAAAI\\/AAAAAAAAAEc\\/ywaoD1Y_Lus\\/photo.jpg?sz=50\",\"isDefault\":false},\"isPlusUser\":true,\"language\":\"en_GB\",\"circledByCount\":13,\"verified\":false},\"avatar_original\":\"https:\\/\\/lh6.googleusercontent.com\\/-7qHRJbecjtk\\/AAAAAAAAAAI\\/AAAAAAAAAEc\\/ywaoD1Y_Lus\\/photo.jpg\"}'    \n",
    "        val=val.replace('\\\\\"','').replace('\"\"','\"')\n",
    "        value=json.loads(val,strict=False)\n",
    "        #print(value)\n",
    "        #print(calcScore(value))\n",
    "        x=calcScore(value)\n",
    "    except:\n",
    "        error=\"JSON Loading Failed\"\n",
    "        sys.stdout.write(str(error)+\"\\n\")\n",
    "        sys.exit(0)"
   ]
  },
  {
   "cell_type": "code",
   "execution_count": 90,
   "metadata": {},
   "outputs": [],
   "source": [
    "def calcScore(value):\n",
    "    try:\n",
    "        firstName=value['name'].split()[0]\n",
    "        lastname=value['name'].split()[-1]\n",
    "        email=value['email']\n",
    "        contains_first_name=re.compile(firstName.lower())\n",
    "        contains_last_name=re.compile(lastName.lower())\n",
    "        if(contains_first_name.search(email)):total_score+=2.5\n",
    "        if(contains_last_name.search(email)):total_score+=2.5\n",
    "    except:\n",
    "        pass\n",
    "    \n",
    "    \n",
    "    try:\n",
    "        if(value['user']['verified']):total_score+=30\n",
    "        else:pass\n",
    "    except:\n",
    "        pass\n",
    "    \n",
    "    \n",
    "    try:\n",
    "        if(value['user']['isPlusUser']):total_score+=10\n",
    "        else:pass\n",
    "      \n",
    "    except:\n",
    "        pass\n",
    "    \n",
    "    \n",
    "    try:\n",
    "        num_o_conn=value['user']['circledByCount']\n",
    "        total_score+=int(num_o_conn)*1.5\n",
    "        \n",
    "        \n",
    "    except:\n",
    "        pass\n",
    "    \n",
    "    \n",
    "    print(total_score)\n"
   ]
  },
  {
   "cell_type": "code",
   "execution_count": 91,
   "metadata": {},
   "outputs": [
    {
     "name": "stdout",
     "output_type": "stream",
     "text": [
      "JSON Loading Failed\n"
     ]
    },
    {
     "ename": "SystemExit",
     "evalue": "0",
     "output_type": "error",
     "traceback": [
      "An exception has occurred, use %tb to see the full traceback.\n",
      "\u001b[0;31mSystemExit\u001b[0m\u001b[0;31m:\u001b[0m 0\n"
     ]
    },
    {
     "name": "stderr",
     "output_type": "stream",
     "text": [
      "/usr/local/lib/python3.5/dist-packages/IPython/core/interactiveshell.py:2971: UserWarning: To exit: use 'exit', 'quit', or Ctrl-D.\n",
      "  warn(\"To exit: use 'exit', 'quit', or Ctrl-D.\", stacklevel=1)\n"
     ]
    }
   ],
   "source": [
    "if __name__=='__main__':\n",
    "    main()\n"
   ]
  },
  {
   "cell_type": "code",
   "execution_count": 63,
   "metadata": {},
   "outputs": [],
   "source": [
    "import numpy as np\n",
    "val='{\"token\":\"ya29.Gl3hBbA3WDTjQrj4AxFm3UHqYMfF2mgpRHJ5oh7myM1lYiRyhym5dvJwxL1T6sfNjcGDeELJ1OyEyt0M-9TQgki9dN73eSAEwnZJ2HFAd86AsE6OhaDH9oHeJTTAu_Q\",\"refreshToken\":null,\"expiresIn\":3599,\"id\":\"117137725249225792257\",\"nickname\":null,\"name\":\"Akbar Ali\",\"email\":\"akbarali0702@gmail.com\",\"avatar\":\"https:\\/\\/lh6.googleusercontent.com\\/-7qHRJbecjtk\\/AAAAAAAAAAI\\/AAAAAAAAAEc\\/ywaoD1Y_Lus\\/photo.jpg?sz=50\",\"user\":{\"kind\":\"plus#person\",\"etag\":\"\\\"RKS4-q7QGL10FxltAebpjqjKQR0\\/0XNvPDppxL7u4w-RzRYioOpuLkY\\\"\",\"gender\":\"male\",\"emails\":[{\"value\":\"akbarali0702@gmail.com\",\"type\":\"account\"}],\"objectType\":\"person\",\"id\":\"117137725249225792257\",\"displayName\":\"Akbar Ali\",\"name\":{\"familyName\":\"Ali\",\"givenName\":\"Akbar\"},\"url\":\"https:\\/\\/plus.google.com\\/117137725249225792257\",\"image\":{\"url\":\"https:\\/\\/lh6.googleusercontent.com\\/-7qHRJbecjtk\\/AAAAAAAAAAI\\/AAAAAAAAAEc\\/ywaoD1Y_Lus\\/photo.jpg?sz=50\",\"isDefault\":false},\"isPlusUser\":true,\"language\":\"en_GB\",\"circledByCount\":13,\"verified\":false},\"avatar_original\":\"https:\\/\\/lh6.googleusercontent.com\\/-7qHRJbecjtk\\/AAAAAAAAAAI\\/AAAAAAAAAEc\\/ywaoD1Y_Lus\\/photo.jpg\"}'    \n",
    "val=val.replace('\\\\\"','').replace('\"\"','\"')\n",
    "value=json.loads(val,strict=False)\n",
    "teVal=value['user']['verified']"
   ]
  },
  {
   "cell_type": "code",
   "execution_count": 67,
   "metadata": {},
   "outputs": [
    {
     "data": {
      "text/plain": [
       "False"
      ]
     },
     "execution_count": 67,
     "metadata": {},
     "output_type": "execute_result"
    }
   ],
   "source": []
  },
  {
   "cell_type": "code",
   "execution_count": null,
   "metadata": {},
   "outputs": [],
   "source": []
  }
 ],
 "metadata": {
  "kernelspec": {
   "display_name": "Python 3",
   "language": "python",
   "name": "python3"
  },
  "language_info": {
   "codemirror_mode": {
    "name": "ipython",
    "version": 3
   },
   "file_extension": ".py",
   "mimetype": "text/x-python",
   "name": "python",
   "nbconvert_exporter": "python",
   "pygments_lexer": "ipython3",
   "version": "3.5.2"
  }
 },
 "nbformat": 4,
 "nbformat_minor": 2
}
