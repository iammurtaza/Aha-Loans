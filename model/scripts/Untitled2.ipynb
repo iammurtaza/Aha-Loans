{
 "cells": [
  {
   "cell_type": "code",
   "execution_count": 92,
   "metadata": {},
   "outputs": [],
   "source": [
    "import re,json,sys,fuckit"
   ]
  },
  {
   "cell_type": "code",
   "execution_count": 129,
   "metadata": {},
   "outputs": [],
   "source": [
    "val='{\"token\":\"ya29.GlvhBa4OkOcwM88bFGjpURKcnTz_rotWh-E_vcfwUBFjxH3LB98pbfjhIrU93b29jzLVXd2q1S50_0VEB63ikAJMy9m2U-1NQ4B2EHS8oex2yqNFAunY8r0wcaSx\",\"refreshToken\":null,\"expiresIn\":3600,\"id\":\"101048662100544358927\",\"nickname\":null,\"name\":\"Murtaza Hasan\",\"email\":\"murtazaygenius@gmail.com\",\"avatar\":\"https:\\/\\/lh3.googleusercontent.com\\/-f-0iPgx913U\\/AAAAAAAAAAI\\/AAAAAAAAiu0\\/EVHFonNZgdc\\/photo.jpg?sz=50\",\"user\":{\"kind\":\"plus#person\",\"etag\":\"\\\"RKS4-q7QGL10FxltAebpjqjKQR0\\/yx3dVB7XKtwptMf3qkRPK_Xp3KY\\\"\",\"gender\":\"male\",\"emails\":[{\"value\":\"murtazaygenius@gmail.com\",\"type\":\"account\"}],\"urls\":[{\"value\":\"http:\\/\\/www.youtube.com\\/user\\/MhZnSO4\",\"type\":\"otherProfile\",\"label\":\"Murtaza Hasan\"},{\"value\":\"http:\\/\\/www.facebook.com\\/mhznso4\",\"type\":\"other\",\"label\":\"mhznso4\"}],\"objectType\":\"person\",\"id\":\"101048662100544358927\",\"displayName\":\"Murtaza Hasan\",\"name\":{\"familyName\":\"Hasan\",\"givenName\":\"Murtaza\"},\"tagline\":\" \\u03c0 ain\\'t rational, kid! \",\"braggingRights\":\"Sports + Studies = All Rounder = Me !\",\"aboutMe\":\"Different thinking .. different views .. what you see is what you won&#39;t get .. cause i am both introvert and outshining guy .. i haven&#39;t been able to figure out myself ! DON&#39;T KNOW ABOUT THE WORLD\",\"relationshipStatus\":\"single\",\"url\":\"https:\\/\\/plus.google.com\\/+MurtazaHasanZaidi\",\"image\":{\"url\":\"https:\\/\\/lh3.googleusercontent.com\\/-f-0iPgx913U\\/AAAAAAAAAAI\\/AAAAAAAAiu0\\/EVHFonNZgdc\\/photo.jpg?sz=50\",\"isDefault\":false},\"organizations\":[{\"name\":\"Bal Bharati School\",\"type\":\"school\",\"primary\":false},{\"name\":\"Bal Bharati Public School\",\"type\":\"school\",\"primary\":false}],\"placesLived\":[{\"value\":\"India\"}],\"isPlusUser\":true,\"language\":\"en_GB\",\"circledByCount\":0,\"verified\":false,\"cover\":{\"layout\":\"banner\",\"coverPhoto\":{\"url\":\"https:\\/\\/lh3.googleusercontent.com\\/3mXQUfB9XOMjufr0wv6dyjrzeeqPJQu5PzU2dRdY3-V7WNROjFIapHwXfGFs49fGVREPaEAPjdpsJw=s630-fcrop64=1,00000000ffffffff\",\"height\":528,\"width\":940},\"coverInfo\":{\"topImageOffset\":0,\"leftImageOffset\":0}}},\"avatar_original\":\"https:\\/\\/lh3.googleusercontent.com\\/-f-0iPgx913U\\/AAAAAAAAAAI\\/AAAAAAAAiu0\\/EVHFonNZgdc\\/photo.jpg\"}'"
   ]
  },
  {
   "cell_type": "code",
   "execution_count": 130,
   "metadata": {},
   "outputs": [],
   "source": [
    "value=val.replace('\\\\\"','').replace('\"\"','\"').replace(\"\\'\",\"\")"
   ]
  },
  {
   "cell_type": "code",
   "execution_count": 131,
   "metadata": {},
   "outputs": [
    {
     "data": {
      "text/plain": [
       "{'avatar': 'https://lh3.googleusercontent.com/-f-0iPgx913U/AAAAAAAAAAI/AAAAAAAAiu0/EVHFonNZgdc/photo.jpg?sz=50',\n",
       " 'avatar_original': 'https://lh3.googleusercontent.com/-f-0iPgx913U/AAAAAAAAAAI/AAAAAAAAiu0/EVHFonNZgdc/photo.jpg',\n",
       " 'email': 'murtazaygenius@gmail.com',\n",
       " 'expiresIn': 3600,\n",
       " 'id': '101048662100544358927',\n",
       " 'name': 'Murtaza Hasan',\n",
       " 'nickname': None,\n",
       " 'refreshToken': None,\n",
       " 'token': 'ya29.GlvhBa4OkOcwM88bFGjpURKcnTz_rotWh-E_vcfwUBFjxH3LB98pbfjhIrU93b29jzLVXd2q1S50_0VEB63ikAJMy9m2U-1NQ4B2EHS8oex2yqNFAunY8r0wcaSx',\n",
       " 'user': {'aboutMe': 'Different thinking .. different views .. what you see is what you won&#39;t get .. cause i am both introvert and outshining guy .. i haven&#39;t been able to figure out myself ! DON&#39;T KNOW ABOUT THE WORLD',\n",
       "  'braggingRights': 'Sports + Studies = All Rounder = Me !',\n",
       "  'circledByCount': 0,\n",
       "  'cover': {'coverInfo': {'leftImageOffset': 0, 'topImageOffset': 0},\n",
       "   'coverPhoto': {'height': 528,\n",
       "    'url': 'https://lh3.googleusercontent.com/3mXQUfB9XOMjufr0wv6dyjrzeeqPJQu5PzU2dRdY3-V7WNROjFIapHwXfGFs49fGVREPaEAPjdpsJw=s630-fcrop64=1,00000000ffffffff',\n",
       "    'width': 940},\n",
       "   'layout': 'banner'},\n",
       "  'displayName': 'Murtaza Hasan',\n",
       "  'emails': [{'type': 'account', 'value': 'murtazaygenius@gmail.com'}],\n",
       "  'etag': 'RKS4-q7QGL10FxltAebpjqjKQR0/yx3dVB7XKtwptMf3qkRPK_Xp3KY',\n",
       "  'gender': 'male',\n",
       "  'id': '101048662100544358927',\n",
       "  'image': {'isDefault': False,\n",
       "   'url': 'https://lh3.googleusercontent.com/-f-0iPgx913U/AAAAAAAAAAI/AAAAAAAAiu0/EVHFonNZgdc/photo.jpg?sz=50'},\n",
       "  'isPlusUser': True,\n",
       "  'kind': 'plus#person',\n",
       "  'language': 'en_GB',\n",
       "  'name': {'familyName': 'Hasan', 'givenName': 'Murtaza'},\n",
       "  'objectType': 'person',\n",
       "  'organizations': [{'name': 'Bal Bharati School',\n",
       "    'primary': False,\n",
       "    'type': 'school'},\n",
       "   {'name': 'Bal Bharati Public School', 'primary': False, 'type': 'school'}],\n",
       "  'placesLived': [{'value': 'India'}],\n",
       "  'relationshipStatus': 'single',\n",
       "  'tagline': ' π aint rational, kid! ',\n",
       "  'url': 'https://plus.google.com/+MurtazaHasanZaidi',\n",
       "  'urls': [{'label': 'Murtaza Hasan',\n",
       "    'type': 'otherProfile',\n",
       "    'value': 'http://www.youtube.com/user/MhZnSO4'},\n",
       "   {'label': 'mhznso4',\n",
       "    'type': 'other',\n",
       "    'value': 'http://www.facebook.com/mhznso4'}],\n",
       "  'verified': False}}"
      ]
     },
     "execution_count": 131,
     "metadata": {},
     "output_type": "execute_result"
    }
   ],
   "source": [
    "json.loads(value,strict=False)"
   ]
  },
  {
   "cell_type": "code",
   "execution_count": 132,
   "metadata": {},
   "outputs": [],
   "source": [
    "def main():\n",
    "    try:\n",
    "        \n",
    "        val='{\"token\":\"ya29.Gl3hBbA3WDTjQrj4AxFm3UHqYMfF2mgpRHJ5oh7myM1lYiRyhym5dvJwxL1T6sfNjcGDeELJ1OyEyt0M-9TQgki9dN73eSAEwnZJ2HFAd86AsE6OhaDH9oHeJTTAu_Q\",\"refreshToken\":null,\"expiresIn\":3599,\"id\":\"117137725249225792257\",\"nickname\":null,\"name\":\"Akbar Ali\",\"email\":\"akbarali0702@gmail.com\",\"avatar\":\"https:\\/\\/lh6.googleusercontent.com\\/-7qHRJbecjtk\\/AAAAAAAAAAI\\/AAAAAAAAAEc\\/ywaoD1Y_Lus\\/photo.jpg?sz=50\",\"user\":{\"kind\":\"plus#person\",\"etag\":\"\\\"RKS4-q7QGL10FxltAebpjqjKQR0\\/0XNvPDppxL7u4w-RzRYioOpuLkY\\\"\",\"gender\":\"male\",\"emails\":[{\"value\":\"akbarali0702@gmail.com\",\"type\":\"account\"}],\"objectType\":\"person\",\"id\":\"117137725249225792257\",\"displayName\":\"Akbar Ali\",\"name\":{\"familyName\":\"Ali\",\"givenName\":\"Akbar\"},\"url\":\"https:\\/\\/plus.google.com\\/117137725249225792257\",\"image\":{\"url\":\"https:\\/\\/lh6.googleusercontent.com\\/-7qHRJbecjtk\\/AAAAAAAAAAI\\/AAAAAAAAAEc\\/ywaoD1Y_Lus\\/photo.jpg?sz=50\",\"isDefault\":false},\"isPlusUser\":true,\"language\":\"en_GB\",\"circledByCount\":13,\"verified\":false},\"avatar_original\":\"https:\\/\\/lh6.googleusercontent.com\\/-7qHRJbecjtk\\/AAAAAAAAAAI\\/AAAAAAAAAEc\\/ywaoD1Y_Lus\\/photo.jpg\"}'    \n",
    "        val=val.replace('\\\\\"','').replace('\"\"','\"')\n",
    "        value=json.loads(val,strict=False)\n",
    "        print(calcScore(value))\n",
    "    except:\n",
    "        pass"
   ]
  },
  {
   "cell_type": "code",
   "execution_count": 133,
   "metadata": {},
   "outputs": [],
   "source": [
    "def calcScore(value):\n",
    "    total_score=0\n",
    "    try:\n",
    "        firstName=value['name'].split()[0]\n",
    "        lastname=value['name'].split()[-1]\n",
    "        email=value['email']\n",
    "        contains_first_name=re.compile(firstName.lower())\n",
    "        contains_last_name=re.compile(lastName.lower())\n",
    "        if(contains_first_name.search(email)):total_score+=2.5\n",
    "        if(contains_last_name.search(email)):total_score+=2.5\n",
    "    except:\n",
    "        pass\n",
    "    \n",
    "    \n",
    "    try:\n",
    "        if(value['user']['verified']):total_score+=30\n",
    "        else:pass\n",
    "    except:\n",
    "        pass\n",
    "    \n",
    "    \n",
    "    try:\n",
    "        if(value['user']['isPlusUser']):total_score+=10\n",
    "        else:pass\n",
    "      \n",
    "    except:\n",
    "        pass\n",
    "    \n",
    "    \n",
    "    try:\n",
    "        num_o_conn=value['user']['circledByCount']\n",
    "        total_score+=int(num_o_conn)*1.5\n",
    "        \n",
    "        \n",
    "    except:\n",
    "        pass\n",
    "    \n",
    "    \n",
    "    return(total_score)"
   ]
  },
  {
   "cell_type": "code",
   "execution_count": 134,
   "metadata": {},
   "outputs": [
    {
     "name": "stdout",
     "output_type": "stream",
     "text": [
      "29.5\n"
     ]
    }
   ],
   "source": [
    "if __name__=='__main__':\n",
    "    main()\n"
   ]
  },
  {
   "cell_type": "code",
   "execution_count": 63,
   "metadata": {},
   "outputs": [],
   "source": [
    "import numpy as np\n",
    "val='{\"token\":\"ya29.Gl3hBbA3WDTjQrj4AxFm3UHqYMfF2mgpRHJ5oh7myM1lYiRyhym5dvJwxL1T6sfNjcGDeELJ1OyEyt0M-9TQgki9dN73eSAEwnZJ2HFAd86AsE6OhaDH9oHeJTTAu_Q\",\"refreshToken\":null,\"expiresIn\":3599,\"id\":\"117137725249225792257\",\"nickname\":null,\"name\":\"Akbar Ali\",\"email\":\"akbarali0702@gmail.com\",\"avatar\":\"https:\\/\\/lh6.googleusercontent.com\\/-7qHRJbecjtk\\/AAAAAAAAAAI\\/AAAAAAAAAEc\\/ywaoD1Y_Lus\\/photo.jpg?sz=50\",\"user\":{\"kind\":\"plus#person\",\"etag\":\"\\\"RKS4-q7QGL10FxltAebpjqjKQR0\\/0XNvPDppxL7u4w-RzRYioOpuLkY\\\"\",\"gender\":\"male\",\"emails\":[{\"value\":\"akbarali0702@gmail.com\",\"type\":\"account\"}],\"objectType\":\"person\",\"id\":\"117137725249225792257\",\"displayName\":\"Akbar Ali\",\"name\":{\"familyName\":\"Ali\",\"givenName\":\"Akbar\"},\"url\":\"https:\\/\\/plus.google.com\\/117137725249225792257\",\"image\":{\"url\":\"https:\\/\\/lh6.googleusercontent.com\\/-7qHRJbecjtk\\/AAAAAAAAAAI\\/AAAAAAAAAEc\\/ywaoD1Y_Lus\\/photo.jpg?sz=50\",\"isDefault\":false},\"isPlusUser\":true,\"language\":\"en_GB\",\"circledByCount\":13,\"verified\":false},\"avatar_original\":\"https:\\/\\/lh6.googleusercontent.com\\/-7qHRJbecjtk\\/AAAAAAAAAAI\\/AAAAAAAAAEc\\/ywaoD1Y_Lus\\/photo.jpg\"}'    \n",
    "val=val.replace('\\\\\"','').replace('\"\"','\"')\n",
    "value=json.loads(val,strict=False)\n",
    "teVal=value['user']['verified']"
   ]
  },
  {
   "cell_type": "code",
   "execution_count": 67,
   "metadata": {},
   "outputs": [
    {
     "data": {
      "text/plain": [
       "False"
      ]
     },
     "execution_count": 67,
     "metadata": {},
     "output_type": "execute_result"
    }
   ],
   "source": []
  },
  {
   "cell_type": "code",
   "execution_count": null,
   "metadata": {},
   "outputs": [],
   "source": []
  }
 ],
 "metadata": {
  "kernelspec": {
   "display_name": "Python 3",
   "language": "python",
   "name": "python3"
  },
  "language_info": {
   "codemirror_mode": {
    "name": "ipython",
    "version": 3
   },
   "file_extension": ".py",
   "mimetype": "text/x-python",
   "name": "python",
   "nbconvert_exporter": "python",
   "pygments_lexer": "ipython3",
   "version": "3.5.2"
  }
 },
 "nbformat": 4,
 "nbformat_minor": 2
}
