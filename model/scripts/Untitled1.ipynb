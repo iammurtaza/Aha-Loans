{
 "cells": [
  {
   "cell_type": "code",
   "execution_count": 23,
   "metadata": {},
   "outputs": [],
   "source": [
    "import re,os,json\n"
   ]
  },
  {
   "cell_type": "code",
   "execution_count": 24,
   "metadata": {},
   "outputs": [],
   "source": [
    "val='{\"token\":\"EAAWI8wxzZBC4BAOpC9mKuJm4SxPkKEYqRpJ249WUeEkJUD9Whhtiq8c8EvAxzwEL6vyRT39X5VpsPuPRjexSzmZCb7dRGWtACxE7Curq6u5ZCd8Fp3v6uQkfjDzhp8dE9bblGsPMUJ6cBDKvZB5er6LYLn9en5IlBhrxZCYTW2AZDZD\",\"refreshToken\":null,\"expiresIn\":5178523,\"id\":\"1730828933650713\",\"nickname\":null,\"name\":\"Sunny Yasser\",\"email\":\"sunnyyasser@gmail.com\",\"avatar\":\"https:\\/\\/graph.facebook.com\\/v2.10\\/1730828933650713\\/picture?type=normal\",\"user\":{\"name\":\"Sunny Yasser\",\"email\":\"sunnyyasser@gmail.com\",\"gender\":\"male\",\"verified\":true,\"link\":\"https:\\/\\/www.facebook.com\\/app_scoped_user_id\\/YXNpZADpBWEdhek1nY0syLVlJZA0FVRjB0T0pwUHZAKRmVtR29yWTlhSUtLRWpJZAWpWTlFBOTVvMWYzTUU0amE0T3RCUlpzQlVfNjRZAY3MzTm5yT1RPcUh1TldjVzJWaXdqOHZASZAHkxWl9Hc0tsU3BHOFNxWHZAvRncZD\\/\",\"id\":\"1730828933650713\"},\"avatar_original\":\"https:\\/\\/graph.facebook.com\\/v2.10\\/1730828933650713\\/picture?width=1920\",\"profileUrl\":\"https:\\/\\/www.facebook.com\\/app_scoped_user_id\\/YXNpZADpBWEdhek1nY0syLVlJZA0FVRjB0T0pwUHZAKRmVtR29yWTlhSUtLRWpJZAWpWTlFBOTVvMWYzTUU0amE0T3RCUlpzQlVfNjRZAY3MzTm5yT1RPcUh1TldjVzJWaXdqOHZASZAHkxWl9Hc0tsU3BHOFNxWHZAvRncZD\\/\"}'"
   ]
  },
  {
   "cell_type": "code",
   "execution_count": 25,
   "metadata": {},
   "outputs": [],
   "source": [
    "value=json.loads(val,strict=False)"
   ]
  },
  {
   "cell_type": "code",
   "execution_count": 26,
   "metadata": {},
   "outputs": [],
   "source": [
    "totalScore=0"
   ]
  },
  {
   "cell_type": "code",
   "execution_count": 27,
   "metadata": {},
   "outputs": [],
   "source": [
    "try:\n",
    "    value=json.loads(val,strict=False)\n",
    "    email=value['email']\n",
    "    try:\n",
    "        firstName=value['name'].split(\" \")[0]\n",
    "        containsfirst=re.compile(firstName.lower())\n",
    "        if(containsfirst.search(email)):totalScore+=50\n",
    "    except:\n",
    "        pass\n",
    "    try:\n",
    "        lastName=value['name'].split(\" \")[-1]\n",
    "        containslast=re.compile(lastName.lower())\n",
    "        if(containslast.search(email)):totalScore+=50\n",
    "    except:\n",
    "        pass\n",
    "except:\n",
    "    pass\n",
    "        "
   ]
  },
  {
   "cell_type": "code",
   "execution_count": 52,
   "metadata": {},
   "outputs": [],
   "source": [
    "try:\n",
    "    verify=value['user']['verified']\n",
    "    if(verify):totalScore+=30\n",
    "    else:pass\n",
    "except:\n",
    "    pass"
   ]
  },
  {
   "cell_type": "code",
   "execution_count": 53,
   "metadata": {},
   "outputs": [
    {
     "data": {
      "text/plain": [
       "130"
      ]
     },
     "execution_count": 53,
     "metadata": {},
     "output_type": "execute_result"
    }
   ],
   "source": [
    "totalScore"
   ]
  },
  {
   "cell_type": "code",
   "execution_count": 50,
   "metadata": {},
   "outputs": [
    {
     "ename": "AttributeError",
     "evalue": "'bool' object has no attribute 'str'",
     "output_type": "error",
     "traceback": [
      "\u001b[0;31m---------------------------------------------------------------------------\u001b[0m",
      "\u001b[0;31mAttributeError\u001b[0m                            Traceback (most recent call last)",
      "\u001b[0;32m<ipython-input-50-84e94f3049b7>\u001b[0m in \u001b[0;36m<module>\u001b[0;34m()\u001b[0m\n\u001b[0;32m----> 1\u001b[0;31m \u001b[0mverify\u001b[0m\u001b[0;34m.\u001b[0m\u001b[0mstr\u001b[0m \u001b[0;32mis\u001b[0m \u001b[0;32mTrue\u001b[0m\u001b[0;34m\u001b[0m\u001b[0m\n\u001b[0m",
      "\u001b[0;31mAttributeError\u001b[0m: 'bool' object has no attribute 'str'"
     ]
    }
   ],
   "source": [
    "\n"
   ]
  },
  {
   "cell_type": "code",
   "execution_count": 51,
   "metadata": {},
   "outputs": [
    {
     "data": {
      "text/plain": [
       "True"
      ]
     },
     "execution_count": 51,
     "metadata": {},
     "output_type": "execute_result"
    }
   ],
   "source": [
    "verify\n"
   ]
  },
  {
   "cell_type": "code",
   "execution_count": null,
   "metadata": {},
   "outputs": [],
   "source": []
  }
 ],
 "metadata": {
  "kernelspec": {
   "display_name": "Python 3",
   "language": "python",
   "name": "python3"
  },
  "language_info": {
   "codemirror_mode": {
    "name": "ipython",
    "version": 3
   },
   "file_extension": ".py",
   "mimetype": "text/x-python",
   "name": "python",
   "nbconvert_exporter": "python",
   "pygments_lexer": "ipython3",
   "version": "3.5.2"
  }
 },
 "nbformat": 4,
 "nbformat_minor": 2
}
