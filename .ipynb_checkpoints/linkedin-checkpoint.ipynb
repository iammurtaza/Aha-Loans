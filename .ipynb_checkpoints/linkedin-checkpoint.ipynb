{
 "cells": [
  {
   "cell_type": "code",
   "execution_count": 136,
   "metadata": {},
   "outputs": [],
   "source": [
    "import json,pandas as pd,sys,datetime,re"
   ]
  },
  {
   "cell_type": "code",
   "execution_count": 349,
   "metadata": {},
   "outputs": [],
   "source": [
    "args='{\"token\":\"AQVaPxJrvgYHltSSdeJGQl7jhU-FOf1QStpKgF0NjeWIHxHLRTKH9XHefvx3lvebHHft7RFiAQqqcuWlIpL-3_lX8Wtd-UBwPr799fcIKWUtynMmbHmWtgdQi5tFwmXu_WS5vfIkvj-TX50ZLmzp1ewn7mbJFuYPiFmM1HAgR_tHAEuZKmuM6Roi9SYZSs17YHY6STkOSSClKWb8wQ2D3mjOf45FYa273IcUentTZHKvFxVoZiATCqvdrgn2W8-B570fP4JVzMhh2qxgNSZV4UqEpzMvQdXa11nPvoz_kq0Y2xs1PaFpGxcKCn7c5OAufzYpvNe8XwHZEbOujcTqwZP3GQrQSw\",\"refreshToken\":null,\"expiresIn\":5183999,\"id\":\"1iUqh2wTIA\",\"nickname\":null,\"name\":\"Suneel Kumar Rajpoot\",\"email\":\"suneelweb15@gmail.com\",\"avatar\":\"https:\\/\\/media.licdn.com\\/dms\\/image\\/C4D03AQHZTZnv_sKv6A\\/profile-displayphoto-shrink_100_100\\/0?e=1534982400&v=beta&t=tUwxDAeQ0fCmFQbUgOuW7FYmNUVcROMH_280pPxWcM4\",\"user\":{\"apiStandardProfileRequest\":{\"headers\":{\"_total\":1,\"values\":[{\"name\":\"x-li-auth-token\",\"value\":\"name:UUqR\"}]},\"url\":\"https:\\/\\/api.linkedin.com\\/v1\\/people\\/1iUqh2wTIA\"},\"currentShare\":{\"author\":{\"firstName\":\"Suneel Kumar\",\"id\":\"1iUqh2wTIA\",\"lastName\":\"Rajpoot\"},\"comment\":\"\",\"id\":\"s6081331427444613120\",\"source\":{\"serviceProvider\":{\"name\":\"FLAGSHIP\"}},\"timestamp\":1449902397000,\"visibility\":{\"code\":\"anyone\"}},\"emailAddress\":\"suneelweb15@gmail.com\",\"firstName\":\"Suneel Kumar\",\"formattedName\":\"Suneel Kumar Rajpoot\",\"headline\":\"SR.PHP Developer, Laravel Expert, Full Stack PHP Developer, Opencart Developer, Amazon Web Services (AWS)\",\"id\":\"1iUqh2wTIA\",\"industry\":\"Information Technology and Services\",\"lastName\":\"Rajpoot\",\"location\":{\"country\":{\"code\":\"in\"},\"name\":\"Noida Area, India\"},\"numConnections\":500,\"numConnectionsCapped\":true,\"pictureUrl\":\"https:\\/\\/media.licdn.com\\/dms\\/image\\/C4D03AQHZTZnv_sKv6A\\/profile-displayphoto-shrink_100_100\\/0?e=1534982400&v=beta&t=tUwxDAeQ0fCmFQbUgOuW7FYmNUVcROMH_280pPxWcM4\",\"pictureUrls\":{\"_total\":1,\"values\":[\"https:\\/\\/media.licdn.com\\/dms\\/image\\/C4D00AQEL0Yxaq7lGpA\\/profile-originalphoto-shrink_900_1200\\/0?e=1529661600&v=beta&t=iVwgnH2-8pCGMmBrsyGAllQxaRXeiGQan4ti3Z0NnBA\"]},\"positions\":{\"_total\":3,\"values\":[{\"company\":{\"id\":15217245,\"industry\":\"Financial Services\",\"name\":\"Gullakh.com\",\"size\":\"2-10\",\"type\":\"Privately Held\"},\"id\":1012766236,\"isCurrent\":true,\"location\":{\"country\":{\"code\":\"in\",\"name\":\"India\"},\"name\":\"Noida Area, India\"},\"startDate\":{\"month\":5,\"year\":2017},\"title\":\"Senior Software Engineer\"},{\"company\":{\"id\":5038819,\"industry\":\"Retail\",\"name\":\"MyFlowerTree.com\",\"size\":\"51-200\",\"type\":\"Privately Held\"},\"id\":705779842,\"isCurrent\":true,\"location\":{\"country\":{\"code\":\"in\",\"name\":\"India\"},\"name\":\"New Delhi Area, India\"},\"startDate\":{\"month\":6,\"year\":2015},\"title\":\"Senior Software Developer(PHP, Laravel, eCommerce)\"},{\"company\":{\"name\":\"Trust Payments Ltd\"},\"id\":684919439,\"isCurrent\":true,\"location\":[],\"startDate\":{\"month\":6,\"year\":2015},\"summary\":\"As a software Developer, I will support service specialists in performing problem determination and analysis on client systems Depending on the severity level of a problem, I will be required to work directly with clients through conference calls or on site visits and provide in sight and feedback regarding the client environment to the development organization and be responsible for existing and new product development.\",\"title\":\"Senior Software Developer(laravel Framework)\"}]},\"publicProfileUrl\":\"https:\\/\\/www.linkedin.com\\/in\\/suneelrajpoot\",\"siteStandardProfileRequest\":{\"url\":\"https:\\/\\/www.linkedin.com\\/profile\\/view?id=AAoAAAUvUs8Bxt2sJqHoqzokhQvfm16dmNgtSnE&authType=name&authToken=UUqR&trk=api*a5274615*s5592855*\"},\"summary\":\"Currently working as a Sr. Software Developer. My role function requires to develop code using programming specifications, high level design documents and implement the identified components based on client requirements. Its also ensure that the implemented components are unit tested and ready to beintegrated into the product. You will provide defect fixes identified by theverification team during the software development life cycle and be exposed to projects across different domains.\\n\\nAs a software Developer, I will support service specialists in performing problem determination and analysis on client systems Depending on the severity level of a problem, I will be required to work directly with clients through conference calls or on site visits and provide in sight and feedback regarding the client environment to the development organization and be responsible for existing and new product development.\\n\\nI have completed project on several platform \\u2013 php, mysql, sql server 2005\\/2008, oops, Joomla, Magneto, opencart, oscommerce, wordpress, DotNetNuke, virtue mart, phpfox, asp.net.\"},\"avatar_original\":\"https:\\/\\/media.licdn.com\\/dms\\/image\\/C4D00AQEL0Yxaq7lGpA\\/profile-originalphoto-shrink_900_1200\\/0?e=1529661600&v=beta&t=iVwgnH2-8pCGMmBrsyGAllQxaRXeiGQan4ti3Z0NnBA\"}'"
   ]
  },
  {
   "cell_type": "code",
   "execution_count": 350,
   "metadata": {},
   "outputs": [],
   "source": [
    "args=args.replace('null','\\\"null\\\"') \n",
    "value=json.loads(args,strict=False)"
   ]
  },
  {
   "cell_type": "code",
   "execution_count": 351,
   "metadata": {},
   "outputs": [],
   "source": [
    "total_score=0"
   ]
  },
  {
   "cell_type": "code",
   "execution_count": 352,
   "metadata": {},
   "outputs": [],
   "source": [
    "industryScore=pd.read_csv('industryscore.csv')\n",
    "companyList=pd.read_csv('comapnyList.csv')\n",
    "locationList=pd.read_csv('locationList.csv')\n",
    "\n",
    "\n",
    "locationList.set_index(\"Branch Name\",inplace=True)\n",
    "companyList.set_index(\"CATEGORY\",inplace=True)\n",
    "industryScore.set_index('Score',inplace=True)"
   ]
  },
  {
   "cell_type": "code",
   "execution_count": 353,
   "metadata": {},
   "outputs": [
    {
     "name": "stdout",
     "output_type": "stream",
     "text": [
      "100\n"
     ]
    }
   ],
   "source": [
    "if(value['user']['location'] and value['user']['location']['name']):\n",
    "    area=value['user']['location']['name'].split(',')[0].split(' ')[:-1]\n",
    "    ccode=value['user']['location']['country']['code']\n",
    "    location=\" \".join(area).strip()\n",
    "    try:\n",
    "        idx=locationList.loc[locationList['City'].values == location]['Location type PL'][0]\n",
    "        #print(total_score)\n",
    "        if(idx=='Type A PL'):total_score+=100\n",
    "        elif(idx=='Type B PL'):total_score+=50\n",
    "        else:pass\n",
    "    except:\n",
    "        pass\n",
    "print(total_score)\n",
    "    "
   ]
  },
  {
   "cell_type": "code",
   "execution_count": 370,
   "metadata": {},
   "outputs": [
    {
     "data": {
      "text/plain": [
       "625.0"
      ]
     },
     "execution_count": 370,
     "metadata": {},
     "output_type": "execute_result"
    }
   ],
   "source": [
    "if(value['user']['positions'] and value['user']['positions']['_total'] is not 0 ):\n",
    "    pos=value['user']['positions']['values']\n",
    "    start_month=0\n",
    "    start_year=0\n",
    "    company_name=0\n",
    "    for item in pos:\n",
    "        if(item['company']):\n",
    "            company_name=item['company']['name']\n",
    "        elif(item['startDate']):\n",
    "            start_month=item['startDate']['month']\n",
    "            start_year=item['startDate']['year']\n",
    "        else:pass\n",
    "\n",
    "try:\n",
    "    now=datetime.datetime.now()\n",
    "    years_passed=now.year-int(start_year)\n",
    "    if(years_passed==0):pass\n",
    "    elif(years_passed <=1):total_score+=10\n",
    "    elif(years_passed>1 and years_passed<=2):total_score+=20\n",
    "    elif(years_passed>2 and years_passed<=3):total_score+=30\n",
    "    elif(years_passed>3 and years_passed<=5):total_score+=40\n",
    "\n",
    "    else:total_score+=50\n",
    "\n",
    "except:\n",
    "    pass\n",
    "\n",
    "\n",
    "\n",
    "\n",
    "try:\n",
    "    idx=companyList.index[companyList['COMPANY NAME'].values == company_name][0]\n",
    "    if(idx == 'A+'):total_score+=100\n",
    "    elif(idx == 'C1000'):total_score+=80\n",
    "    elif(idx == 'Cat A'):total_score+=60\n",
    "    elif(idx == 'Cat B'):total_score+=40\n",
    "    elif(idx == 'Cat G'):total_score+=20\n",
    "    else:pass\n",
    "    \n",
    "except:\n",
    "    pass\n",
    "total_score"
   ]
  },
  {
   "cell_type": "code",
   "execution_count": 355,
   "metadata": {},
   "outputs": [
    {
     "data": {
      "text/plain": [
       "190.0"
      ]
     },
     "execution_count": 355,
     "metadata": {},
     "output_type": "execute_result"
    }
   ],
   "source": [
    "if(value['user']['industry']):\n",
    "    industry=value['user']['industry']\n",
    "    try:\n",
    "        idx=industryScore.index[industryScore['Industry']== industry][0]\n",
    "        total_score+=idx\n",
    "        \n",
    "    except:pass\n",
    "else:pass    \n",
    "    \n",
    "total_score    "
   ]
  },
  {
   "cell_type": "code",
   "execution_count": 356,
   "metadata": {},
   "outputs": [
    {
     "data": {
      "text/plain": [
       "240.0"
      ]
     },
     "execution_count": 356,
     "metadata": {},
     "output_type": "execute_result"
    }
   ],
   "source": [
    "if (value['user']['headline']):\n",
    "    \n",
    "    try:\n",
    "        headline=value['user']['headline'].lower()\n",
    "        looking='looking'\n",
    "        _for='for'\n",
    "        job='job'\n",
    "        contains_1=re.compile(looking.lower())\n",
    "        contains_2=re.compile(_for.lower())\n",
    "        contains_3=re.compile(job.lower())\n",
    "        if(contains_1.search(headline) and contains_2.search(headline) and contains_3.search(headline) ):pass\n",
    "        elif(contains_1.search(headline) and contains_3.search(headline)):pass\n",
    "        elif(contains_1.search(headline) and contains_2.search(headline)):total_score+=30\n",
    "        else:total_score+=50    \n",
    "        \n",
    "    except: \n",
    "        pass\n",
    "total_score"
   ]
  },
  {
   "cell_type": "code",
   "execution_count": 357,
   "metadata": {},
   "outputs": [
    {
     "data": {
      "text/plain": [
       "290.0"
      ]
     },
     "execution_count": 357,
     "metadata": {},
     "output_type": "execute_result"
    }
   ],
   "source": [
    "if(value['user']['numConnections']):\n",
    "    if(value['user']['numConnectionsCapped']):\n",
    "        total_score+=50\n",
    "    else:\n",
    "        total_score+=int (int(value['user']['numConnections'])/10)\n",
    "total_score       "
   ]
  },
  {
   "cell_type": "code",
   "execution_count": 358,
   "metadata": {},
   "outputs": [
    {
     "data": {
      "text/plain": [
       "'Kumar'"
      ]
     },
     "execution_count": 358,
     "metadata": {},
     "output_type": "execute_result"
    }
   ],
   "source": [
    "if(value['name'] and value['email']):\n",
    "    try:\n",
    "        first_name=value['name'].split()[0]\n",
    "        last_name=value['name'].split()[1]\n",
    "        email=value['email']\n",
    "        contains_f=re.compile(first_name.lower())\n",
    "        contains_l=re.compile(last_name.lower())\n",
    "        if(contains_f.search(email.lower()) and contains_l.search(email.lower()) ):total_score+=50\n",
    "        elif(contains_f.search(email.lower()) or contains_l.search(email.lower())):total_score+=25\n",
    "        else:pass    \n",
    "    except:pass\n",
    "total_score\n",
    "last_name"
   ]
  },
  {
   "cell_type": "code",
   "execution_count": 359,
   "metadata": {},
   "outputs": [
    {
     "data": {
      "text/plain": [
       "315.0"
      ]
     },
     "execution_count": 359,
     "metadata": {},
     "output_type": "execute_result"
    }
   ],
   "source": [
    "total_score"
   ]
  },
  {
   "cell_type": "code",
   "execution_count": null,
   "metadata": {},
   "outputs": [],
   "source": []
  }
 ],
 "metadata": {
  "kernelspec": {
   "display_name": "Python 3",
   "language": "python",
   "name": "python3"
  },
  "language_info": {
   "codemirror_mode": {
    "name": "ipython",
    "version": 3
   },
   "file_extension": ".py",
   "mimetype": "text/x-python",
   "name": "python",
   "nbconvert_exporter": "python",
   "pygments_lexer": "ipython3",
   "version": "3.5.2"
  }
 },
 "nbformat": 4,
 "nbformat_minor": 2
}
